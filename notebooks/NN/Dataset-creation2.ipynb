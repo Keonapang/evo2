{
 "cells": [
  {
   "cell_type": "markdown",
   "metadata": {},
   "source": [
    "# Synthetic dataset generation for neural network training\n",
    "\n",
    "To create a synthetic dataset for training a neural network to predict BRCA1 variant labels (0=benign or 1=pathogenic). This dataset consists of feature vectors (`ref_vector1`, `var_vector1`) and their associated labels. It uses randomly generated data to simulate variations in the feature values"
   ]
  },
  {
   "cell_type": "code",
   "execution_count": null,
   "metadata": {},
   "outputs": [],
   "source": [
    "import os\n",
    "import numpy as np\n",
    "import pandas as pd\n",
    "import random\n",
    "import copy\n",
    "DIR = \"/mnt/nfs/rigenenfs/shared_resources/biobanks/UKBIOBANK/pangk/evo2/NN\"\n",
    "input_path = os.path.join(DIR, \"train_vectors2.csv\")\n",
    "out_train = os.path.join(DIR, \"train_vectors2.csv\")\n",
    "print(out_train) # /mnt/nfs/rigenenfs/shared_resources/biobanks/UKBIOBANK/pangk/evo2/NN/train_vectors2.csv\n",
    "out_test = os.path.join(DIR, \"test_vectors2.csv\")\n",
    "print(out_test)  # /mnt/nfs/rigenenfs/shared_resources/biobanks/UKBIOBANK/pangk/evo2/NN/test_vectors2.csv"
   ]
  },
  {
   "cell_type": "markdown",
   "metadata": {},
   "source": [
    "### Define functions"
   ]
  },
  {
   "cell_type": "code",
   "execution_count": null,
   "metadata": {},
   "outputs": [],
   "source": [
    "# label_value = 0\n",
    "# percent_n = 10 \n",
    "# default size is 8192\n",
    "# output dimension is 1x16385 which 8192+8192+1\n",
    "# upperR = 1.4\n",
    "# lowerR = 0.6\n",
    "\n",
    "def create_one_case(percent_n,label_value,lowerR,upperR):\n",
    "    \"\"\"\n",
    "    Generates one pair of feature vectors\n",
    "        ref_vector1 with random values between 0.00001 and 0.01\n",
    "        var_vector1 derived from ref_vector1 by modifying a certain % (percent_n) of its elements. Selected elements are multiplied by a random value between lowerR and upperR\n",
    "    Parameters:\n",
    "        percent_n (float): percentage of elements in ref_vector1 to modify in var_vector1.\n",
    "        label_value (int): label for the generated data point (e.g., 0 for benign, 1 for malignant).\n",
    "        lowerR (float): lower bound of the random multiplier to modify elements in var_vector1.\n",
    "        upperR (float): upper bound of the random multiplier to modify elements in var_vector1.\n",
    "    Returns:\n",
    "        np.ndarray: combined_array; a concatenated array containing ref_vector1, var_vector1, A 1D array of length 16385:\n",
    "        The final element is the label_value.\n",
    "    \"\"\"\n",
    "    # Ref_vector 1\n",
    "    ref_vector1 = np.array(np.random.uniform(low=0.00001, high=0.01, size=8192)) # need to scale to between 0 to 1 (low=0.00001, high=1)\n",
    "    # Initial variant is obtained from deepcopy\n",
    "    var_vector1 = copy.deepcopy(ref_vector1)\n",
    "    num_elements_to_change = int(len(ref_vector1)*(percent_n/100))\n",
    "    indices_to_change = random.sample(range(len(ref_vector1)),num_elements_to_change)\n",
    "    #To change the selected elements in the range between 0.8 and 1.2\n",
    "    for index in indices_to_change:\n",
    "        kk = random.uniform(lowerR,upperR)\n",
    "        var_vector1[index] = ref_vector1[index]*kk\n",
    "    # Clip probabilities (important to ensure probabilities stay within [0, 1])\n",
    "    epsilon = 1e-15  # Small value to prevent log(0)\n",
    "    var_vector1 = np.clip(var_vector1, epsilon, 1 - epsilon)  # Clip probabilities\n",
    "    count_of_change = 0\n",
    "    for i in range(int(len(ref_vector1))):\n",
    "        if (abs(ref_vector1[i] - var_vector1[i]) > 0.0000000001):\n",
    "            count_of_change = count_of_change + 1\n",
    "    # Checking for error:\n",
    "    if (num_elements_to_change != count_of_change):\n",
    "        print('--- Minor Warning:num_elements_to_change NOT.EQUAL count_of_change; details are ', num_elements_to_change, count_of_change)   \n",
    "    combined_array = np.concatenate((ref_vector1,var_vector1,np.array([label_value])))\n",
    "    return combined_array\n",
    "\n",
    "# Generate N rows of 10% difference, label 0\n",
    "def create_N_case(N,percent_n,label_value):\n",
    "    \"\"\"\n",
    "    Generates a 2D array.\n",
    "    Parameters\n",
    "        N (int): The number of rows (data points) to generate.\n",
    "        percent_n (float): The percentage of elements in each reference vector to modify.\n",
    "        label_value (int): The label for all rows in the dataset.\n",
    "    Returns:\n",
    "        two_D_array (numpy array): A 2D array of shape (N, 16385), each row contains the reference vector, variant vector, and label.\n",
    "    \"\"\"\n",
    "    # Create the first item\n",
    "    two_D_array = np.array( [ create_one_case(percent_n,label_value,lowerR,upperR)  ] )  #(1, 16385)\n",
    "    for i in range(N-1):\n",
    "        new_row = create_one_case(percent_n,label_value,lowerR,upperR)\n",
    "        two_D_array = np.insert(two_D_array,1,new_row,axis = 0) #insert as second row\n",
    "    print('*** Finished creating the 2D array: ',two_D_array.shape, 'percent_n =',percent_n, ' label_value =',label_value, ' N=',N)\n",
    "    return  two_D_array\n"
   ]
  },
  {
   "cell_type": "markdown",
   "metadata": {},
   "source": [
    "### 1. Generate dataset with 800 samples\n",
    "Outputs a (800, 16385) array where the first 8192 columns are from `ref_vector1` and the next 8192 columns are from `var_vector1`.\n",
    "\n",
    "Note: `percent_n` controls how much variation exists between `ref_vector1` and `var_vector1`. Higher values of percent_n simulate greater changes,  which might correspond to more severe or clear biological differences"
   ]
  },
  {
   "cell_type": "code",
   "execution_count": null,
   "metadata": {},
   "outputs": [
    {
     "name": "stdout",
     "output_type": "stream",
     "text": [
      "*** Finished creating the 2D array:  (800, 16385) percent_n = 0.1  label_value = 0  N= 800\n",
      "*** Finished creating the 2D array:  (800, 16385) percent_n = 0.2  label_value = 0  N= 800\n",
      "*** Finished creating the 2D array:  (800, 16385) percent_n = 0.3  label_value = 0  N= 800\n",
      "*** Finished creating the 2D array:  (800, 16385) percent_n = 2  label_value = 1  N= 800\n",
      "*** Finished creating the 2D array:  (800, 16385) percent_n = 3  label_value = 1  N= 800\n",
      "*** Finished creating the 2D array:  (800, 16385) percent_n = 4  label_value = 1  N= 800\n"
     ]
    }
   ],
   "source": [
    "# Case 1: Benign Data (label = 0)\n",
    "label_value = 0\n",
    "percent_n = 0.1\n",
    "N = 800\n",
    "two_D_array_10percent = create_N_case(N,percent_n,label_value)\n",
    "\n",
    "label_value = 0\n",
    "percent_n = 0.2\n",
    "N = 800\n",
    "two_D_array_20percent = create_N_case(N,percent_n,label_value)\n",
    "\n",
    "label_value = 0\n",
    "percent_n = 0.3\n",
    "N = 800\n",
    "two_D_array_30percent = create_N_case(N,percent_n,label_value)\n",
    "\n",
    "# Case 1: Pathogenic data (label= 1)\n",
    "label_value = 1\n",
    "percent_n = 2\n",
    "N = 800\n",
    "two_D_array_60percent = create_N_case(N,percent_n,label_value)\n",
    "\n",
    "label_value = 1\n",
    "percent_n = 3\n",
    "N = 800\n",
    "two_D_array_70percent = create_N_case(N,percent_n,label_value)\n",
    "\n",
    "label_value = 1\n",
    "percent_n = 4 # 800 samples with 4% of the ref_vector1 elements modified in var_vector1.\n",
    "N = 800 \n",
    "two_D_array_80percent = create_N_case(N,percent_n,label_value)"
   ]
  },
  {
   "cell_type": "code",
   "execution_count": null,
   "metadata": {},
   "outputs": [
    {
     "name": "stdout",
     "output_type": "stream",
     "text": [
      "(4800, 16385)\n"
     ]
    }
   ],
   "source": [
    "# Stacking all the rows for training\n",
    "DB_train = two_D_array_10percent\n",
    "DB_train = np.vstack((DB_train,two_D_array_20percent))\n",
    "DB_train = np.vstack((DB_train,two_D_array_30percent))\n",
    "DB_train = np.vstack((DB_train,two_D_array_60percent))\n",
    "DB_train = np.vstack((DB_train,two_D_array_70percent))\n",
    "DB_train = np.vstack((DB_train,two_D_array_80percent))\n",
    "print(DB_train.shape) # (4800, 16385)\n",
    "\n",
    "# DB_train.tofile(out_path,sep=',',fmt='%.5f')\n",
    "np.savetxt(out_train,DB_train,delimiter=',',fmt='%.5f')\n",
    "print(\"Finished Export of Training cases \")"
   ]
  },
  {
   "cell_type": "code",
   "execution_count": 20,
   "metadata": {},
   "outputs": [
    {
     "name": "stdout",
     "output_type": "stream",
     "text": [
      "*** Finished creating the 2D array:  (100, 16385) percent_n = 0.1  label_value = 0  N= 100\n",
      "*** Finished creating the 2D array:  (100, 16385) percent_n = 0.2  label_value = 0  N= 100\n",
      "*** Finished creating the 2D array:  (100, 16385) percent_n = 0.3  label_value = 0  N= 100\n",
      "*** Finished creating the 2D array:  (100, 16385) percent_n = 2  label_value = 1  N= 100\n",
      "*** Finished creating the 2D array:  (100, 16385) percent_n = 3  label_value = 1  N= 100\n",
      "*** Finished creating the 2D array:  (100, 16385) percent_n = 4  label_value = 1  N= 100\n"
     ]
    }
   ],
   "source": [
    "# Create for TESTING case\n",
    "label_value = 0\n",
    "percent_n = 0.1\n",
    "N = 100\n",
    "two_D_array_10percent = create_N_case(N,percent_n,label_value)\n",
    "\n",
    "label_value = 0\n",
    "percent_n = 0.2\n",
    "N = 100\n",
    "two_D_array_20percent = create_N_case(N,percent_n,label_value)\n",
    "\n",
    "label_value = 0\n",
    "percent_n = 0.3\n",
    "N = 100\n",
    "two_D_array_30percent = create_N_case(N,percent_n,label_value)\n",
    "\n",
    "# Below are for label = 1\n",
    "label_value = 1\n",
    "percent_n = 2\n",
    "N = 100\n",
    "two_D_array_60percent = create_N_case(N,percent_n,label_value)\n",
    "\n",
    "label_value = 1\n",
    "percent_n = 3\n",
    "N = 100\n",
    "two_D_array_70percent = create_N_case(N,percent_n,label_value)\n",
    "\n",
    "label_value = 1\n",
    "percent_n = 4\n",
    "N = 100\n",
    "two_D_array_80percent = create_N_case(N,percent_n,label_value)"
   ]
  },
  {
   "cell_type": "code",
   "execution_count": null,
   "metadata": {},
   "outputs": [],
   "source": [
    "# Stacking all the rows for testing (450 cases)\n",
    "DB_test = two_D_array_10percent\n",
    "DB_test = np.vstack((DB_test,two_D_array_20percent))\n",
    "DB_test = np.vstack((DB_test,two_D_array_30percent))\n",
    "DB_test = np.vstack((DB_test,two_D_array_60percent))\n",
    "DB_test = np.vstack((DB_test,two_D_array_70percent))\n",
    "DB_test = np.vstack((DB_test,two_D_array_80percent))\n",
    "print(DB_test.shape) # (600, 16385)\n",
    "\n",
    "np.savetxt(out_test,DB_test,delimiter=',',fmt='%.5f')\n",
    "print(\"Finished Export of Testing cases \")"
   ]
  },
  {
   "cell_type": "code",
   "execution_count": 22,
   "metadata": {},
   "outputs": [],
   "source": [
    "# READ CSV\n",
    "new_test_values = np.loadtxt(\"test_vectors2.csv\",delimiter=\",\")"
   ]
  },
  {
   "cell_type": "code",
   "execution_count": 23,
   "metadata": {},
   "outputs": [
    {
     "name": "stdout",
     "output_type": "stream",
     "text": [
      "(600, 16385)\n",
      "(600, 16385)\n"
     ]
    }
   ],
   "source": [
    "# TEST the reshape\n",
    "print(new_test_values.shape)\n",
    "new_test = new_test_values.reshape((600,16385))\n",
    "print(new_test.shape)\n"
   ]
  },
  {
   "cell_type": "code",
   "execution_count": null,
   "metadata": {},
   "outputs": [],
   "source": [
    "################################## NO USE BELOW ##################################"
   ]
  },
  {
   "cell_type": "code",
   "execution_count": 67,
   "metadata": {},
   "outputs": [
    {
     "name": "stdout",
     "output_type": "stream",
     "text": [
      "A (1, 16385)\n",
      "B (2, 16385)\n",
      "B (3, 16385)\n"
     ]
    }
   ],
   "source": [
    "label_value = 0\n",
    "percent_n = 10\n",
    "\n",
    "# two_D_array = np.array([create_one_case(percent_n,label_value)] , [create_one_case(percent_n,label_value)])\n",
    "two_D_array = np.array( [ create_one_case(percent_n,label_value)  ] )\n",
    "print('A', two_D_array.shape)\n",
    "new_row = create_one_case(percent_n,label_value)\n",
    "two_D_array = np.insert(two_D_array,0,new_row,axis = 0) #insert as second row\n",
    "print('B', two_D_array.shape)\n",
    "two_D_array = np.insert(two_D_array,1,new_row,axis = 0) #insert as second row\n",
    "print('B', two_D_array.shape)\n"
   ]
  },
  {
   "cell_type": "code",
   "execution_count": 41,
   "metadata": {},
   "outputs": [],
   "source": [
    "#######################################################\n",
    "# Step 1: create samples of input ref/var vector pairs\n",
    "\n",
    "# Ref_vector 1\n",
    "ref_vector1 = np.array(np.random.uniform(low=0.00001, high=0.01, size=8192))\n",
    "# Initial variant is obtained from deepcopy\n",
    "var_vector1 = copy.deepcopy(ref_vector1)\n",
    " \n"
   ]
  },
  {
   "cell_type": "code",
   "execution_count": 42,
   "metadata": {},
   "outputs": [
    {
     "name": "stdout",
     "output_type": "stream",
     "text": [
      "819\n"
     ]
    }
   ],
   "source": [
    "# percentage to change\n",
    "label_value = 0\n",
    "percent_n = 10\n",
    "num_elements_to_change = int(len(ref_vector1)*(percent_n/100))\n",
    "indices_to_change = random.sample(range(len(ref_vector1)),num_elements_to_change)\n",
    "#To change the selected elements in the range between 0.8 and 1.2\n",
    "for index in indices_to_change:\n",
    "    kk = random.uniform(0.8,1.2)\n",
    "    var_vector1[index] = ref_vector1[index]*kk\n",
    "\n",
    "#print(ref_vector1[:30])\n",
    "print(num_elements_to_change)"
   ]
  },
  {
   "cell_type": "code",
   "execution_count": 45,
   "metadata": {},
   "outputs": [
    {
     "name": "stdout",
     "output_type": "stream",
     "text": [
      "819\n",
      "8192\n"
     ]
    }
   ],
   "source": [
    "# Checking: to make sure the elements have been modified\n",
    "count_of_change = 0\n",
    "for i in range(int(len(ref_vector1))):\n",
    "    if (abs(ref_vector1[i] - var_vector1[i]) > 0.0000000001):\n",
    "        #print('i =',i,' diff: ',ref_vector1[i],var_vector1[i])\n",
    "        count_of_change = count_of_change + 1\n",
    "               \n",
    "print(count_of_change)\n",
    "print(len(ref_vector1))"
   ]
  },
  {
   "cell_type": "code",
   "execution_count": 47,
   "metadata": {},
   "outputs": [
    {
     "name": "stdout",
     "output_type": "stream",
     "text": [
      "(16385,)\n"
     ]
    }
   ],
   "source": [
    "combined_array = np.concatenate((ref_vector1,var_vector1,np.array([0])))\n",
    "print(combined_array.shape) #8192 x 2 + 1 = 16385\n"
   ]
  },
  {
   "cell_type": "code",
   "execution_count": null,
   "metadata": {},
   "outputs": [],
   "source": []
  },
  {
   "cell_type": "code",
   "execution_count": 17,
   "metadata": {},
   "outputs": [
    {
     "name": "stdout",
     "output_type": "stream",
     "text": [
      "(3,)\n",
      "(1, 3)\n",
      "(2, 3)\n"
     ]
    }
   ],
   "source": [
    "two_D_array = np.array([[1,2,3]])\n",
    "new_row = np.array([7,8,9])\n",
    "updated_array = np.insert(two_D_array,1,new_row,axis = 0) #insert as second row\n",
    "\n",
    "print(new_row.shape)\n",
    "print(two_D_array.shape)\n",
    "print(updated_array.shape)"
   ]
  },
  {
   "cell_type": "code",
   "execution_count": 5,
   "metadata": {},
   "outputs": [
    {
     "name": "stdout",
     "output_type": "stream",
     "text": [
      "(3, 3)\n"
     ]
    }
   ],
   "source": [
    "two_D_array = np.array([[1,2,3],[4,5,6]])\n",
    "\n",
    "\n",
    "new_row = np.array([7,8,9])\n",
    "updated_array = np.insert(two_D_array,1,new_row,axis = 0) #insert as second row\n",
    "\n",
    "print(updated_array.shape)"
   ]
  },
  {
   "cell_type": "code",
   "execution_count": null,
   "metadata": {},
   "outputs": [],
   "source": [
    "# No Use:  Create a single dataframe by combining the three vectors\n",
    "df_combined = pd.DataFrame({\n",
    "    \"Ref_vector\": ref_vector1,\n",
    "    \"Variant_vector\": var_vector1,\n",
    "    #\"Label\": label_vector\n",
    "})\n",
    "\n",
    "# Step 4: save to CSV\n",
    "print(df_combined.head())\n",
    "print(df_combined.shape)\n",
    "df_combined.to_csv(input_path, index=False)"
   ]
  },
  {
   "cell_type": "code",
   "execution_count": null,
   "metadata": {},
   "outputs": [],
   "source": [
    "# No use\n",
    "count_of_999 = 0\n",
    "for i in range(int(len(ref_vector1))):\n",
    "        if (ref_vector1[i] == 999):\n",
    "               count_of_999 = count_of_999 + 1\n",
    "               \n",
    "print(count_of_999)\n",
    "print(len(ref_vector1))"
   ]
  },
  {
   "cell_type": "code",
   "execution_count": null,
   "metadata": {},
   "outputs": [],
   "source": []
  }
 ],
 "metadata": {
  "kernelspec": {
   "display_name": "Python 3",
   "language": "python",
   "name": "python3"
  },
  "language_info": {
   "codemirror_mode": {
    "name": "ipython",
    "version": 3
   },
   "file_extension": ".py",
   "mimetype": "text/x-python",
   "name": "python",
   "nbconvert_exporter": "python",
   "pygments_lexer": "ipython3",
   "version": "3.12.10"
  }
 },
 "nbformat": 4,
 "nbformat_minor": 2
}
